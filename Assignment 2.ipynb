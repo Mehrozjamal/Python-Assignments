{
 "cells": [
  {
   "cell_type": "code",
   "execution_count": 11,
   "metadata": {},
   "outputs": [
    {
     "name": "stdout",
     "output_type": "stream",
     "text": [
      "Marks in English:87\n",
      "Marks in Physics:76\n",
      "Marks in Maths:98\n",
      "Marks in Urdu:65\n",
      "Marks in Islamiat:95\n",
      "Your Total Marks is 421\n",
      "Your Percentage is 84.2 %\n",
      "Your Grade is A+\n"
     ]
    }
   ],
   "source": [
    "a = int(input(\"Marks in English:\" ))\n",
    "b = int(input(\"Marks in Physics:\"))\n",
    "c = int(input(\"Marks in Maths:\"))\n",
    "d = int(input(\"Marks in Urdu:\"))\n",
    "e = int(input(\"Marks in Islamiat:\"))\n",
    "f = (a+b+c+d+e)*100/500\n",
    "sum = a+b+c+d+e\n",
    "print(\"Your Total Marks is\",sum)\n",
    "print(\"Your Percentage is\",f,\"%\")\n",
    "if (f>=81 and f<=100):\n",
    "    print(\"Your Grade is A+\");\n",
    "elif (f>=71 and f<=80):\n",
    "    print(\"Your Grade is A\");\n",
    "elif (f>=61 and f<=70):\n",
    "    print(\"Your Grade is B\");\n",
    "elif (f>=51 and f<=60):\n",
    "    print(\"Your Grade is C\");\n",
    "elif (f>=41 and f<=50):\n",
    "    print(\"Your Grade is D\");\n",
    "else:\n",
    "    print(\"You have Failed\")"
   ]
  },
  {
   "cell_type": "code",
   "execution_count": 15,
   "metadata": {},
   "outputs": [
    {
     "name": "stdout",
     "output_type": "stream",
     "text": [
      "Enter a number:6\n",
      "This is an even number.\n"
     ]
    }
   ],
   "source": [
    "num = float(input(\"Enter a number:\"))\n",
    "mod = num % 2\n",
    "if mod > 0:\n",
    "    print (\"This is an odd number.\")\n",
    "else:\n",
    "    print(\"This is an even number.\")"
   ]
  },
  {
   "cell_type": "code",
   "execution_count": 21,
   "metadata": {},
   "outputs": [
    {
     "name": "stdout",
     "output_type": "stream",
     "text": [
      "The length of the list is : 4\n"
     ]
    }
   ],
   "source": [
    "num = len([1,3,4,6])\n",
    "print(\"The length of the list is :\",num)"
   ]
  },
  {
   "cell_type": "code",
   "execution_count": 27,
   "metadata": {},
   "outputs": [
    {
     "name": "stdout",
     "output_type": "stream",
     "text": [
      "Sum of all elements in given list :  74\n"
     ]
    }
   ],
   "source": [
    "total = 0\n",
    "list1 = [11, 5, 17, 18, 23]  \n",
    "for ele in range(0, len(list1)): \n",
    "    total = total + list1[ele] \n",
    "print(\"Sum of all elements in given list : \", total) "
   ]
  },
  {
   "cell_type": "code",
   "execution_count": 31,
   "metadata": {},
   "outputs": [
    {
     "name": "stdout",
     "output_type": "stream",
     "text": [
      "Largest number in the list : 58\n"
     ]
    }
   ],
   "source": [
    "lst = [12,34,14,58,35]\n",
    "print(\"Largest number in the list :\",max(lst))"
   ]
  },
  {
   "cell_type": "code",
   "execution_count": 38,
   "metadata": {},
   "outputs": [
    {
     "name": "stdout",
     "output_type": "stream",
     "text": [
      "[1, 1, 2, 3]\n"
     ]
    }
   ],
   "source": [
    "a = [1, 1, 2, 3, 5, 8, 13, 21, 34, 55, 89]\n",
    "lst = []\n",
    "for i in a:\n",
    "     if i < 5:\n",
    "        lst.append(i)\n",
    "print(lst)"
   ]
  },
  {
   "cell_type": "code",
   "execution_count": null,
   "metadata": {},
   "outputs": [],
   "source": []
  }
 ],
 "metadata": {
  "kernelspec": {
   "display_name": "Python 3",
   "language": "python",
   "name": "python3"
  },
  "language_info": {
   "codemirror_mode": {
    "name": "ipython",
    "version": 3
   },
   "file_extension": ".py",
   "mimetype": "text/x-python",
   "name": "python",
   "nbconvert_exporter": "python",
   "pygments_lexer": "ipython3",
   "version": "3.7.3"
  }
 },
 "nbformat": 4,
 "nbformat_minor": 2
}
