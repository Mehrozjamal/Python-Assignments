{
 "cells": [
  {
   "cell_type": "code",
   "execution_count": 7,
   "metadata": {},
   "outputs": [
    {
     "name": "stdout",
     "output_type": "stream",
     "text": [
      "{'First_Name': 'Mehroz', 'Last_Name': 'Jamal', 'Age': 20, 'City': 'Karachi'}\n",
      "{'First_Name': 'Mehroz', 'Last_Name': 'Jamal', 'Age': 20, 'City': 'Karachi', 'Qualification': 'Intermediate'}\n",
      "{'First_Name': 'Mehroz', 'Last_Name': 'Jamal', 'Age': 20, 'City': 'Karachi'}\n"
     ]
    }
   ],
   "source": [
    "person = {'First_Name': 'Mehroz',\n",
    "          'Last_Name': 'Jamal',\n",
    "          'Age': 20,\n",
    "          'City': 'Karachi',\n",
    "         }\n",
    "print(person)\n",
    "person.update({'Qualification':'Intermediate'})\n",
    "print(person)\n",
    "del person['Qualification']\n",
    "print(person)"
   ]
  },
  {
   "cell_type": "code",
   "execution_count": 18,
   "metadata": {},
   "outputs": [
    {
     "name": "stdout",
     "output_type": "stream",
     "text": [
      "Karachi {'Country': 'Pakistan', 'Population': '14.91 million', 'Fact': 'It is the Sixth largest city by population'}\n",
      "Riyadh {'Country': 'Saudi Arabia', 'Population': '5.188 million', 'Fact': 'The Kingdom Centre is the tallest skyscraper in the country'}\n",
      "Beijing {'Country': 'China', 'Population': '21.54 million', 'Fact': 'Beijing is one of the oldest cities in the world.'}\n"
     ]
    }
   ],
   "source": [
    "karachi = {'Country':'Pakistan',\n",
    "           'Population':'14.91 million',\n",
    "           'Fact':'It is the Sixth largest city by population'}\n",
    "print ('Karachi', karachi)\n",
    "\n",
    "riyadh = {'Country':'Saudi Arabia',\n",
    "           'Population':'5.188 million',\n",
    "           'Fact':'The Kingdom Centre is the tallest skyscraper in the country'}\n",
    "print ('Riyadh', riyadh)\n",
    "\n",
    "beijing = {'Country':'China',\n",
    "           'Population':'21.54 million',\n",
    "           'Fact':'Beijing is one of the oldest cities in the world.'}\n",
    "print ('Beijing', beijing)"
   ]
  },
  {
   "cell_type": "code",
   "execution_count": 24,
   "metadata": {},
   "outputs": [
    {
     "name": "stdout",
     "output_type": "stream",
     "text": [
      "How old are you? 20\n",
      "Your ticket is $15\n"
     ]
    }
   ],
   "source": [
    "age = input(\"How old are you? \")\n",
    "age = int(age)\n",
    "if age <= 3:\n",
    "     print(\"Your ticket is free.\")\n",
    "elif age > 3 and age <= 12:\n",
    "     print(\"Your ticket is $10\")\n",
    "elif age > 12:\n",
    "     print(\"Your ticket is $15\")"
   ]
  },
  {
   "cell_type": "code",
   "execution_count": 28,
   "metadata": {},
   "outputs": [
    {
     "name": "stdout",
     "output_type": "stream",
     "text": [
      "One of my favorite books is Alice in Wonderland\n"
     ]
    }
   ],
   "source": [
    "def favorite_book(title):\n",
    "    print(\"One of my favorite books is \"+ title)\n",
    "favorite_book('Alice in Wonderland')"
   ]
  },
  {
   "cell_type": "code",
   "execution_count": 37,
   "metadata": {},
   "outputs": [
    {
     "name": "stdout",
     "output_type": "stream",
     "text": [
      "Guess a number between 1 to 30\n",
      "15\n",
      "Your guess is too low.\n",
      "20\n",
      "Your guess is too high.\n",
      "17\n",
      "Good job You guessed my number in 3 guesses!\n"
     ]
    }
   ],
   "source": [
    "import random\n",
    "print('Guess a number between 1 to 30')\n",
    "guessesTaken = 0\n",
    "number = random.randint(1,30)\n",
    "while guessesTaken < 3:\n",
    "    guess = input()\n",
    "    guess = int(guess)\n",
    "    guessesTaken = guessesTaken + 1\n",
    "    if guess < number:\n",
    "        print('Your guess is too low.')\n",
    "    if guess > number:\n",
    "        print('Your guess is too high.')\n",
    "    if guess == number:\n",
    "        break\n",
    "if guess == number:\n",
    "    guessesTaken = str(guessesTaken)\n",
    "    print('Good job '+'You guessed my number in ' + guessesTaken + ' guesses!')\n",
    "if guess != number:\n",
    "    number = str(number)\n",
    "    print('The number I was thinking of was ' + number)"
   ]
  },
  {
   "cell_type": "code",
   "execution_count": null,
   "metadata": {},
   "outputs": [],
   "source": []
  }
 ],
 "metadata": {
  "kernelspec": {
   "display_name": "Python 3",
   "language": "python",
   "name": "python3"
  },
  "language_info": {
   "codemirror_mode": {
    "name": "ipython",
    "version": 3
   },
   "file_extension": ".py",
   "mimetype": "text/x-python",
   "name": "python",
   "nbconvert_exporter": "python",
   "pygments_lexer": "ipython3",
   "version": "3.7.3"
  }
 },
 "nbformat": 4,
 "nbformat_minor": 2
}
