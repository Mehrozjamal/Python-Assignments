{
 "cells": [
  {
   "cell_type": "code",
   "execution_count": 41,
   "metadata": {},
   "outputs": [
    {
     "name": "stdout",
     "output_type": "stream",
     "text": [
      "Select Operation.\n",
      "1. Addition\n",
      "2. Subtracttion\n",
      "3. Multiplication\n",
      "4. Division\n",
      "5. Power\n",
      "Enter Choice(1/2/3/4/5): 2\n",
      "Enter First number: 2\n",
      "Enter Second number: 2\n",
      "2.0 - 2.0 = 0.0\n"
     ]
    }
   ],
   "source": [
    "print(\"Select Operation.\")\n",
    "print(\"1. Addition\")\n",
    "print(\"2. Subtracttion\")\n",
    "print(\"3. Multiplication\")\n",
    "print(\"4. Division\")\n",
    "print(\"5. Power\")\n",
    "def add(x, y):\n",
    "    return x + y\n",
    "def subtract(x, y):\n",
    "    return x - y\n",
    "def multiply(x, y):\n",
    "    return x * y\n",
    "def divide(x, y):\n",
    "    return x / y\n",
    "def power(x, y):\n",
    "    return x ** y\n",
    "choice = input(\"Enter Choice(1/2/3/4/5): \")\n",
    "num1 = float(input(\"Enter First number: \"))\n",
    "num2 = float(input(\"Enter Second number: \"))\n",
    "if choice == '1':\n",
    "    print(num1,\"+\",num2,\"=\", add(num1,num2))\n",
    "elif choice == '2':\n",
    "    print(num1,\"-\",num2,\"=\", subtract(num1,num2))\n",
    "elif choice == '3':\n",
    "    print(num1,\"*\",num2,\"=\", multiply(num1,num2))\n",
    "elif choice == '4':\n",
    "    print(num1,\"/\",num2,\"=\", divide(num1,num2))\n",
    "elif choice == '5':\n",
    "    print(num1,\"^\",num2,\"=\", power(num1,num2))\n",
    "else:\n",
    "    print(\"You have not typed a valid operator,please run the program again.\")"
   ]
  },
  {
   "cell_type": "code",
   "execution_count": 40,
   "metadata": {},
   "outputs": [
    {
     "name": "stdout",
     "output_type": "stream",
     "text": [
      "Checking if 10 exists in list: \n",
      "Exists\n"
     ]
    }
   ],
   "source": [
    "test_list = [ 9, 51, 20, 17, 10, 34, 12 ] \n",
    "print(\"Checking if 10 exists in list: \") \n",
    "for i in test_list: \n",
    "    if(i == 10) : \n",
    "        print (\"Exists\")"
   ]
  },
  {
   "cell_type": "code",
   "execution_count": 42,
   "metadata": {},
   "outputs": [
    {
     "name": "stdout",
     "output_type": "stream",
     "text": [
      "{'Name': 'Mehroz', 'Student Id': '12345'}\n",
      "{'Name': 'Mehroz', 'Student Id': '12345', 'Class': 'abc'}\n"
     ]
    }
   ],
   "source": [
    "dict1 = {'Name':'Mehroz', 'Student Id':'12345'} \n",
    "print(dict1) \n",
    "dict1.update({'Class':'abc'})\n",
    "print(dict1)"
   ]
  },
  {
   "cell_type": "code",
   "execution_count": 48,
   "metadata": {},
   "outputs": [
    {
     "name": "stdout",
     "output_type": "stream",
     "text": [
      "725\n"
     ]
    }
   ],
   "source": [
    "my_dict = {'data1':54,'data2':624,'data3':47}\n",
    "print(sum(my_dict.values()))"
   ]
  },
  {
   "cell_type": "code",
   "execution_count": 83,
   "metadata": {},
   "outputs": [
    {
     "name": "stdout",
     "output_type": "stream",
     "text": [
      "Duplicate values from list : [2, 30, 9, 20]\n"
     ]
    }
   ],
   "source": [
    "lst = [ 2, 30, 9, 1, 2, 30, 15, 9, 45, 36, 20, 20]\n",
    "dupItems = []\n",
    "uniqItems = {}\n",
    "for x in lst:\n",
    "    if x not in uniqItems:\n",
    "        uniqItems[x] = 1\n",
    "    else:\n",
    "        if uniqItems[x] == 1:\n",
    "            dupItems.append(x)\n",
    "        uniqItems[x] += 1\n",
    "print((\"Duplicate values from list :\"),dupItems)"
   ]
  },
  {
   "cell_type": "code",
   "execution_count": 105,
   "metadata": {},
   "outputs": [
    {
     "name": "stdout",
     "output_type": "stream",
     "text": [
      "Enter key to check : 1\n",
      "Key is present and value of the key is : A\n"
     ]
    }
   ],
   "source": [
    "d={'1':'A','2':'B','3':'C'}\n",
    "key=input(\"Enter key to check : \")\n",
    "if key in d.keys():\n",
    "    print(\"Key is present and value of the key is :\",d[key])\n",
    "else:\n",
    "    print(\"Key is not present!\")"
   ]
  }
 ],
 "metadata": {
  "kernelspec": {
   "display_name": "Python 3",
   "language": "python",
   "name": "python3"
  },
  "language_info": {
   "codemirror_mode": {
    "name": "ipython",
    "version": 3
   },
   "file_extension": ".py",
   "mimetype": "text/x-python",
   "name": "python",
   "nbconvert_exporter": "python",
   "pygments_lexer": "ipython3",
   "version": "3.7.3"
  }
 },
 "nbformat": 4,
 "nbformat_minor": 2
}
